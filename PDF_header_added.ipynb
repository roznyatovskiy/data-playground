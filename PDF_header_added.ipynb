{
 "cells": [
  {
   "cell_type": "code",
   "execution_count": 7,
   "id": "f98a9658-bf2f-4df2-a15e-d12cbaa1790d",
   "metadata": {},
   "outputs": [],
   "source": [
    "from PyPDF2 import PdfReader, PdfWriter\n",
    "from reportlab.pdfgen import canvas\n",
    "from reportlab.lib.pagesizes import letter\n",
    "import io\n",
    "import os\n",
    "import tqdm"
   ]
  },
  {
   "cell_type": "code",
   "execution_count": 8,
   "id": "7094b150-11a8-4aca-8229-328260d66e5b",
   "metadata": {},
   "outputs": [],
   "source": [
    "\n",
    "# Specify the folder path\n",
    "folder_path = \"input path\"\n",
    "folder_path_out = \"output path\"\n",
    "\n",
    "# List all files in the folder\n",
    "files = [f for f in os.listdir(folder_path) if os.path.isfile(os.path.join(folder_path, f))]"
   ]
  },
  {
   "cell_type": "markdown",
   "id": "6c7e7dca-384f-4c80-8bd3-b007742b40fa",
   "metadata": {},
   "source": [
    "## add header text on each of the pdf file page"
   ]
  },
  {
   "cell_type": "code",
   "execution_count": 9,
   "id": "62fcd8fe-99f6-4ed1-9707-bffac813ee47",
   "metadata": {},
   "outputs": [],
   "source": [
    "def add_header_to_pdf(input_pdf, output_pdf, header_text):\n",
    "    # Read the input PDF\n",
    "    reader = PdfReader(input_pdf)\n",
    "    writer = PdfWriter()\n",
    "\n",
    "    for page_num, page in enumerate(reader.pages):\n",
    "        # Create a PDF with ReportLab containing the header text\n",
    "        packet = io.BytesIO()\n",
    "        can = canvas.Canvas(packet, pagesize=letter)\n",
    "        width, height = letter\n",
    "        \n",
    "        # Draw header at the top (adjust y for positioning)\n",
    "        can.setFont(\"Helvetica-Bold\", 16)\n",
    "        can.drawString(100, height - 20, header_text)\n",
    "        can.save()\n",
    "        \n",
    "        # Move to beginning of the StringIO buffer\n",
    "        packet.seek(0)\n",
    "        new_pdf = PdfReader(packet)\n",
    "        header_page = new_pdf.pages[0]\n",
    "        \n",
    "        # Merge the header onto the original page\n",
    "        page.merge_page(header_page)\n",
    "        writer.add_page(page)\n",
    "    \n",
    "    # Save the result\n",
    "    with open(output_pdf, \"wb\") as f:\n",
    "        writer.write(f)"
   ]
  },
  {
   "cell_type": "code",
   "execution_count": 18,
   "id": "2040db3b-cecc-4330-98e1-c321b55da967",
   "metadata": {},
   "outputs": [],
   "source": [
    "# Print the files\n",
    "for file in files:\n",
    "    add_header_to_pdf(\"input.pdf\", \"output_with_header.pdf\", \"Confidential - Draft\")"
   ]
  },
  {
   "cell_type": "markdown",
   "id": "27ac5ede-37bb-403c-9424-c147dc3d399e",
   "metadata": {},
   "source": [
    "## combine files into one"
   ]
  },
  {
   "cell_type": "code",
   "execution_count": 23,
   "id": "ffc2a16c-e6b1-4b67-b836-e4db03ab5b66",
   "metadata": {},
   "outputs": [],
   "source": [
    "# Output PDF file\n",
    "output_pdf = folder_path_out+'output.pdf\"\n",
    "\n",
    "# Create a PdfWriter object\n",
    "writer = PdfWriter()\n",
    "\n",
    "# List all PDF files in the folder (sorted alphabetically)\n",
    "pdf_files = sorted([f for f in os.listdir(folder_path_out) if f.lower().endswith(\".pdf\")])\n",
    "\n",
    "for pdf_file in pdf_files:\n",
    "    pdf_path = os.path.join(folder_path_out, pdf_file)\n",
    "    reader = PdfReader(pdf_path)\n",
    "    \n",
    "    # Add all pages of the current PDF to the writer\n",
    "    for page in reader.pages:\n",
    "        writer.add_page(page)\n",
    "\n",
    "# Write out the combined PDF\n",
    "with open(output_pdf, \"wb\") as f:\n",
    "    writer.write(f)\n"
   ]
  }
 ],
 "metadata": {
  "kernelspec": {
   "display_name": "Python 3 (ipykernel)",
   "language": "python",
   "name": "python3"
  },
  "language_info": {
   "codemirror_mode": {
    "name": "ipython",
    "version": 3
   },
   "file_extension": ".py",
   "mimetype": "text/x-python",
   "name": "python",
   "nbconvert_exporter": "python",
   "pygments_lexer": "ipython3",
   "version": "3.12.3"
  }
 },
 "nbformat": 4,
 "nbformat_minor": 5
}
