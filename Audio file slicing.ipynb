{
 "cells": [
  {
   "cell_type": "code",
   "execution_count": 9,
   "id": "c78a2556-8fdd-4b25-8aec-5792c82184f4",
   "metadata": {},
   "outputs": [
    {
     "name": "stdout",
     "output_type": "stream",
     "text": [
      "ffmpeg\n"
     ]
    }
   ],
   "source": [
    "from pydub import AudioSegment\n",
    "# print(AudioSegment.converter)"
   ]
  },
  {
   "cell_type": "code",
   "execution_count": 1,
   "id": "7ccfdf91-3992-45a3-bef9-8eb9f0a1e9eb",
   "metadata": {},
   "outputs": [],
   "source": [
    "def hms_to_ms(h, m, s):\n",
    "    \"\"\"Convert hours, minutes, seconds to milliseconds.\"\"\"\n",
    "    return (h * 3600 + m * 60 + s) * 1000\n",
    "\n",
    "def convert_m4a_to_wav(input_file, output_file):\n",
    "    \"\"\"\n",
    "    Convert an .m4a audio file to .wav format.\n",
    "    \"\"\"\n",
    "    # Load the .m4a file\n",
    "    audio = AudioSegment.from_file(input_file, format=\"m4a\")\n",
    "    \n",
    "    # Export as .wav\n",
    "    audio.export(output_file, format=\"wav\")\n",
    "    print(f\"Converted {input_file} → {output_file}\")\n",
    "\n",
    "def extract_audio_segment(input_file, output_file, start_hms, end_hms):\n",
    "    \"\"\"\n",
    "    Extracts a fragment from an .m4a audio file based on start and end timestamps.\n",
    "\n",
    "    Args:\n",
    "        input_file (str): Path to the input .m4a audio file.\n",
    "        output_file (str): Path where the output fragment will be saved.\n",
    "        start_hms (tuple): Start time as (hours, minutes, seconds).\n",
    "        end_hms (tuple): End time as (hours, minutes, seconds).\n",
    "    \"\"\"\n",
    "    # Convert timestamps to milliseconds\n",
    "    start_ms = hms_to_ms(*start_hms)\n",
    "    end_ms = hms_to_ms(*end_hms)\n",
    "\n",
    "    # Load the audio file (.m4a supported if ffmpeg is installed)\n",
    "    audio = AudioSegment.from_file(input_file, format=\"wav\")\n",
    "\n",
    "    # Slice the audio\n",
    "    fragment = audio[start_ms:end_ms]\n",
    "\n",
    "    # Export the fragment (can save as m4a, mp3, wav, etc.)\n",
    "    fragment.export(output_file, format=\"wav\")\n",
    "\n",
    "    print(f\"Saved fragment to {output_file}\")"
   ]
  },
  {
   "cell_type": "code",
   "execution_count": 2,
   "id": "63d7c010-2730-4ea5-ba85-356a15df622f",
   "metadata": {},
   "outputs": [],
   "source": [
    "convert_m4a_to_wav(\"input.m4a\", \"output.wav\")"
   ]
  },
  {
   "cell_type": "code",
   "execution_count": 4,
   "id": "6f6f2a9e-6daa-47c6-83ea-b02325c27117",
   "metadata": {},
   "outputs": [],
   "source": [
    "# Example usage\n",
    "extract_audio_segment(\n",
    "    input_file=\"input file\",\n",
    "    output_file=\"output file\",\n",
    "    start_hms=(2, 5, 28),   # 0h 1m 30s\n",
    "    end_hms=(2, 6, 00)      # 0h 2m 45s\n",
    ")"
   ]
  }
 ],
 "metadata": {
  "kernelspec": {
   "display_name": "Python 3 (ipykernel)",
   "language": "python",
   "name": "python3"
  },
  "language_info": {
   "codemirror_mode": {
    "name": "ipython",
    "version": 3
   },
   "file_extension": ".py",
   "mimetype": "text/x-python",
   "name": "python",
   "nbconvert_exporter": "python",
   "pygments_lexer": "ipython3",
   "version": "3.12.3"
  }
 },
 "nbformat": 4,
 "nbformat_minor": 5
}
